{
 "cells": [
  {
   "cell_type": "markdown",
   "id": "e08020ae",
   "metadata": {},
   "source": [
    "# TOOLS FOR DATA SCIENCE"
   ]
  },
  {
   "cell_type": "markdown",
   "id": "fa882632",
   "metadata": {},
   "source": [
    "## Introduction"
   ]
  },
  {
   "cell_type": "raw",
   "id": "73bbb9ec",
   "metadata": {},
   "source": [
    "This notebook has contains information about various data science "
   ]
  },
  {
   "cell_type": "markdown",
   "id": "8da696b5",
   "metadata": {},
   "source": [
    "## List of data science languages"
   ]
  },
  {
   "cell_type": "raw",
   "id": "5912b334",
   "metadata": {},
   "source": [
    "1) Python\n",
    "2) R\n",
    "3) Sql\n",
    "4) Java\n",
    "5) scala\n",
    "6) Julia\n",
    "7) Java script\n",
    "8) Go \n",
    "9) Ruby\n"
   ]
  },
  {
   "cell_type": "markdown",
   "id": "6c1c69d9",
   "metadata": {},
   "source": [
    "## List of data science libraries"
   ]
  },
  {
   "cell_type": "raw",
   "id": "e49b309a",
   "metadata": {},
   "source": [
    "1) numpy\n",
    "2) pandas\n",
    "3) matplotlib\n",
    "4) seabron\n",
    "5) sklearn\n",
    "6) keras\n",
    "7) tensorflow\n",
    "8) pytorch\n",
    "9) vegas\n",
    "10) bigdl\n",
    "11) ggplot2\n",
    "12) plotly"
   ]
  },
  {
   "cell_type": "markdown",
   "id": "1406dbe3",
   "metadata": {},
   "source": [
    "## table of Data Science tools."
   ]
  },
  {
   "cell_type": "raw",
   "id": "b78e2f2c",
   "metadata": {},
   "source": [
    "# Data Science Tools\n",
    "\n",
    "| Category          | Tool                  | Description                                     |\n",
    "|-------------------|-----------------------|-------------------------------------------------|\n",
    "| Programming       | Python                | General-purpose programming language            |\n",
    "|                   | R                     | Statistical computing and graphics language     |\n",
    "|                   | Julia                 | High-performance programming language          |\n",
    "| Data Analysis     | Pandas                | Data manipulation and analysis library in Python|\n",
    "|                   | NumPy                 | Numerical computing library in Python            |\n",
    "|                   | RStudio               | IDE for R programming language                   |\n",
    "| Machine Learning  | Scikit-learn          | Machine learning library in Python               |\n",
    "|                   | TensorFlow            | Open-source machine learning framework          |\n",
    "|                   | PyTorch               | Deep learning library in Python                  |\n",
    "| Data Visualization| Matplotlib            | 2D plotting library in Python                   |\n",
    "|                   | Seaborn               | Statistical data visualization in Python       |\n",
    "|                   | Tableau               | Data visualization and business intelligence   |\n",
    "| Big Data          | Apache Hadoop         | Distributed storage and processing framework    |\n",
    "|                   | Apache Spark          | Distributed data processing engine              |\n",
    "|                   | Apache Flink          | Stream processing framework                    |\n",
    "| Version Control   | Git                   | Distributed version control system              |\n",
    "|                   | GitHub                | Web-based platform for version control          |\n",
    "| Collaboration     | Jupyter Notebooks     | Interactive notebooks for data science          |\n",
    "|                   | Slack                 | Team collaboration and messaging platform      |\n",
    "|                   | Trello                | Project management and collaboration tool       |\n",
    "\n"
   ]
  },
  {
   "cell_type": "markdown",
   "id": "cbe3d4f9",
   "metadata": {},
   "source": [
    "## Arithmetic expression examples"
   ]
  },
  {
   "cell_type": "code",
   "execution_count": 3,
   "id": "188d900b",
   "metadata": {},
   "outputs": [
    {
     "data": {
      "text/plain": [
       "20365"
      ]
     },
     "execution_count": 3,
     "metadata": {},
     "output_type": "execute_result"
    }
   ],
   "source": [
    "5*(2*2000+7*9+10)"
   ]
  },
  {
   "cell_type": "markdown",
   "id": "83baf0e4",
   "metadata": {},
   "source": [
    "## Multiply and Add numbers"
   ]
  },
  {
   "cell_type": "code",
   "execution_count": 4,
   "id": "5e9a419f",
   "metadata": {},
   "outputs": [],
   "source": [
    "def multiply_add_numbers(a:int,b:int):\n",
    "    return a*b,a+b"
   ]
  },
  {
   "cell_type": "code",
   "execution_count": 5,
   "id": "2bb08849",
   "metadata": {},
   "outputs": [
    {
     "data": {
      "text/plain": [
       "(15, 8)"
      ]
     },
     "execution_count": 5,
     "metadata": {},
     "output_type": "execute_result"
    }
   ],
   "source": [
    "multiply_add_numbers(3,5)"
   ]
  },
  {
   "cell_type": "markdown",
   "id": "64952816",
   "metadata": {},
   "source": [
    "## Convert minutes to hours"
   ]
  },
  {
   "cell_type": "code",
   "execution_count": 6,
   "id": "ec5b7b75",
   "metadata": {},
   "outputs": [],
   "source": [
    "def minutes_to_hours(minutes):\n",
    "    return minutes/60"
   ]
  },
  {
   "cell_type": "code",
   "execution_count": 7,
   "id": "a62c0999",
   "metadata": {},
   "outputs": [
    {
     "data": {
      "text/plain": [
       "2.5"
      ]
     },
     "execution_count": 7,
     "metadata": {},
     "output_type": "execute_result"
    }
   ],
   "source": [
    "minutes_to_hours(150)"
   ]
  },
  {
   "cell_type": "markdown",
   "id": "6ea6d25b",
   "metadata": {},
   "source": [
    "##  List Objectives"
   ]
  },
  {
   "cell_type": "raw",
   "id": "e793822d",
   "metadata": {},
   "source": [
    "To learn about the tools that are used in data science"
   ]
  },
  {
   "cell_type": "markdown",
   "id": "7b30e111",
   "metadata": {},
   "source": [
    "## Authors of the course"
   ]
  },
  {
   "cell_type": "raw",
   "id": "6883499d",
   "metadata": {},
   "source": [
    "Aije Egwaikhide\n",
    "Svetlana Levitan\n",
    "Romeo Kienzler"
   ]
  },
  {
   "cell_type": "code",
   "execution_count": null,
   "id": "d3ff6405",
   "metadata": {},
   "outputs": [],
   "source": []
  }
 ],
 "metadata": {
  "kernelspec": {
   "display_name": "Python 3 (ipykernel)",
   "language": "python",
   "name": "python3"
  },
  "language_info": {
   "codemirror_mode": {
    "name": "ipython",
    "version": 3
   },
   "file_extension": ".py",
   "mimetype": "text/x-python",
   "name": "python",
   "nbconvert_exporter": "python",
   "pygments_lexer": "ipython3",
   "version": "3.11.4"
  }
 },
 "nbformat": 4,
 "nbformat_minor": 5
}
